{
  "nbformat": 4,
  "nbformat_minor": 0,
  "metadata": {
    "colab": {
      "name": "Copy_of_Lab_1_Loading_and_Understanding_Your_Data.ipynb",
      "provenance": [],
      "collapsed_sections": [
        "JndnmDMp66FL"
      ],
      "include_colab_link": true
    },
    "kernelspec": {
      "display_name": "Python 3",
      "language": "python",
      "name": "python3"
    }
  },
  "cells": [
    {
      "cell_type": "markdown",
      "metadata": {
        "id": "view-in-github",
        "colab_type": "text"
      },
      "source": [
        "<a href=\"https://colab.research.google.com/github/WITTER-JHU-APL/josh-understanding-data/blob/main/Copy_of_Lab_1_Loading_and_Understanding_Your_Data.ipynb\" target=\"_parent\"><img src=\"https://colab.research.google.com/assets/colab-badge.svg\" alt=\"Open In Colab\"/></a>"
      ]
    },
    {
      "cell_type": "markdown",
      "metadata": {
        "id": "JndnmDMp66FL"
      },
      "source": [
        "#### Copyright 2017 Google LLC."
      ]
    },
    {
      "cell_type": "code",
      "metadata": {
        "cellView": "both",
        "id": "hMqWDc_m6rUC"
      },
      "source": [
        "# Licensed under the Apache License, Version 2.0 (the \"License\");\n",
        "# you may not use this file except in compliance with the License.\n",
        "# You may obtain a copy of the License at\n",
        "#\n",
        "# https://www.apache.org/licenses/LICENSE-2.0\n",
        "#\n",
        "# Unless required by applicable law or agreed to in writing, software\n",
        "# distributed under the License is distributed on an \"AS IS\" BASIS,\n",
        "# WITHOUT WARRANTIES OR CONDITIONS OF ANY KIND, either express or implied.\n",
        "# See the License for the specific language governing permissions and\n",
        "# limitations under the License."
      ],
      "execution_count": 1,
      "outputs": []
    },
    {
      "cell_type": "markdown",
      "metadata": {
        "id": "4f3CKqFUqL2-"
      },
      "source": [
        "#Lab 1: Loading and Understanding Your Data\n",
        "\n",
        "\n",
        "**Learning Objectives:**\n",
        "* Learn the basics of reading data with Pandas\n",
        "* Learn the basics of data cleaning and handling missing data using Pandas\n",
        "* Learning how to visualize data with a scatter plot\n",
        "* Use Numpy to generate the line minimizing squared loss\n",
        "* Explore visually the difference in the model when replacing missing items by 0s versus the mean value for that feature.\n",
        "\n"
      ]
    },
    {
      "cell_type": "markdown",
      "metadata": {
        "id": "if3EBefJeqKq"
      },
      "source": [
        "## Data Set\n",
        "This lab will use a data set from 1985 Ward's Automotive Yearbook that is part of the [UCI Machine Learning Repository](https://archive.ics.uci.edu/ml/datasets) under [Automobile Data Set](https://archive.ics.uci.edu/ml/datasets/automobile).  You can find a description of the data at [https://archive.ics.uci.edu/ml/datasets/automobile](https://archive.ics.uci.edu/ml/datasets/automobile). "
      ]
    },
    {
      "cell_type": "markdown",
      "metadata": {
        "id": "h94BDSHgeKev"
      },
      "source": [
        "## Imports\n",
        "In this first cell, we'll import some libraries, including Pandas that will be used later to read and load the data. Run this cell to execute the code."
      ]
    },
    {
      "cell_type": "code",
      "metadata": {
        "cellView": "both",
        "colab": {
          "base_uri": "https://localhost:8080/"
        },
        "id": "6CspO1zVopXj",
        "outputId": "8fcffb2e-e35b-4563-ee60-923e66c53abd"
      },
      "source": [
        "import math\n",
        "\n",
        "from IPython import display\n",
        "from matplotlib import cm\n",
        "from matplotlib import gridspec\n",
        "from matplotlib import pyplot as plt\n",
        "import numpy as np\n",
        "import pandas as pd\n",
        "from mpl_toolkits.mplot3d import Axes3D\n",
        "from sklearn import metrics\n",
        "!pip install tensorflow==1.14.0\n",
        "import tensorflow as tf\n",
        "from tensorflow.contrib.learn.python.learn import learn_io, estimator\n",
        "\n",
        "# This line incrasing the amount of logging when there is an error.  You can\n",
        "# remove it if you want less logging\n",
        "tf.logging.set_verbosity(tf.logging.ERROR)\n",
        "\n",
        "print(\"Done with the imports.\")"
      ],
      "execution_count": 2,
      "outputs": [
        {
          "output_type": "stream",
          "text": [
            "Collecting tensorflow==1.14.0\n",
            "\u001b[?25l  Downloading https://files.pythonhosted.org/packages/de/f0/96fb2e0412ae9692dbf400e5b04432885f677ad6241c088ccc5fe7724d69/tensorflow-1.14.0-cp36-cp36m-manylinux1_x86_64.whl (109.2MB)\n",
            "\u001b[K     |████████████████████████████████| 109.2MB 64kB/s \n",
            "\u001b[?25hRequirement already satisfied: absl-py>=0.7.0 in /usr/local/lib/python3.6/dist-packages (from tensorflow==1.14.0) (0.10.0)\n",
            "Requirement already satisfied: gast>=0.2.0 in /usr/local/lib/python3.6/dist-packages (from tensorflow==1.14.0) (0.3.3)\n",
            "Requirement already satisfied: six>=1.10.0 in /usr/local/lib/python3.6/dist-packages (from tensorflow==1.14.0) (1.15.0)\n",
            "Requirement already satisfied: grpcio>=1.8.6 in /usr/local/lib/python3.6/dist-packages (from tensorflow==1.14.0) (1.33.2)\n",
            "Requirement already satisfied: google-pasta>=0.1.6 in /usr/local/lib/python3.6/dist-packages (from tensorflow==1.14.0) (0.2.0)\n",
            "Collecting tensorboard<1.15.0,>=1.14.0\n",
            "\u001b[?25l  Downloading https://files.pythonhosted.org/packages/91/2d/2ed263449a078cd9c8a9ba50ebd50123adf1f8cfbea1492f9084169b89d9/tensorboard-1.14.0-py3-none-any.whl (3.1MB)\n",
            "\u001b[K     |████████████████████████████████| 3.2MB 41.2MB/s \n",
            "\u001b[?25hCollecting keras-applications>=1.0.6\n",
            "\u001b[?25l  Downloading https://files.pythonhosted.org/packages/71/e3/19762fdfc62877ae9102edf6342d71b28fbfd9dea3d2f96a882ce099b03f/Keras_Applications-1.0.8-py3-none-any.whl (50kB)\n",
            "\u001b[K     |████████████████████████████████| 51kB 5.6MB/s \n",
            "\u001b[?25hRequirement already satisfied: keras-preprocessing>=1.0.5 in /usr/local/lib/python3.6/dist-packages (from tensorflow==1.14.0) (1.1.2)\n",
            "Requirement already satisfied: protobuf>=3.6.1 in /usr/local/lib/python3.6/dist-packages (from tensorflow==1.14.0) (3.12.4)\n",
            "Requirement already satisfied: numpy<2.0,>=1.14.5 in /usr/local/lib/python3.6/dist-packages (from tensorflow==1.14.0) (1.18.5)\n",
            "Requirement already satisfied: termcolor>=1.1.0 in /usr/local/lib/python3.6/dist-packages (from tensorflow==1.14.0) (1.1.0)\n",
            "Requirement already satisfied: astor>=0.6.0 in /usr/local/lib/python3.6/dist-packages (from tensorflow==1.14.0) (0.8.1)\n",
            "Requirement already satisfied: wheel>=0.26 in /usr/local/lib/python3.6/dist-packages (from tensorflow==1.14.0) (0.35.1)\n",
            "Collecting tensorflow-estimator<1.15.0rc0,>=1.14.0rc0\n",
            "\u001b[?25l  Downloading https://files.pythonhosted.org/packages/3c/d5/21860a5b11caf0678fbc8319341b0ae21a07156911132e0e71bffed0510d/tensorflow_estimator-1.14.0-py2.py3-none-any.whl (488kB)\n",
            "\u001b[K     |████████████████████████████████| 491kB 41.0MB/s \n",
            "\u001b[?25hRequirement already satisfied: wrapt>=1.11.1 in /usr/local/lib/python3.6/dist-packages (from tensorflow==1.14.0) (1.12.1)\n",
            "Requirement already satisfied: werkzeug>=0.11.15 in /usr/local/lib/python3.6/dist-packages (from tensorboard<1.15.0,>=1.14.0->tensorflow==1.14.0) (1.0.1)\n",
            "Requirement already satisfied: markdown>=2.6.8 in /usr/local/lib/python3.6/dist-packages (from tensorboard<1.15.0,>=1.14.0->tensorflow==1.14.0) (3.3.3)\n",
            "Requirement already satisfied: setuptools>=41.0.0 in /usr/local/lib/python3.6/dist-packages (from tensorboard<1.15.0,>=1.14.0->tensorflow==1.14.0) (50.3.2)\n",
            "Requirement already satisfied: h5py in /usr/local/lib/python3.6/dist-packages (from keras-applications>=1.0.6->tensorflow==1.14.0) (2.10.0)\n",
            "Requirement already satisfied: importlib-metadata; python_version < \"3.8\" in /usr/local/lib/python3.6/dist-packages (from markdown>=2.6.8->tensorboard<1.15.0,>=1.14.0->tensorflow==1.14.0) (2.0.0)\n",
            "Requirement already satisfied: zipp>=0.5 in /usr/local/lib/python3.6/dist-packages (from importlib-metadata; python_version < \"3.8\"->markdown>=2.6.8->tensorboard<1.15.0,>=1.14.0->tensorflow==1.14.0) (3.4.0)\n",
            "Installing collected packages: tensorboard, keras-applications, tensorflow-estimator, tensorflow\n",
            "  Found existing installation: tensorboard 2.3.0\n",
            "    Uninstalling tensorboard-2.3.0:\n",
            "      Successfully uninstalled tensorboard-2.3.0\n",
            "  Found existing installation: tensorflow-estimator 2.3.0\n",
            "    Uninstalling tensorflow-estimator-2.3.0:\n",
            "      Successfully uninstalled tensorflow-estimator-2.3.0\n",
            "  Found existing installation: tensorflow 2.3.0\n",
            "    Uninstalling tensorflow-2.3.0:\n",
            "      Successfully uninstalled tensorflow-2.3.0\n",
            "Successfully installed keras-applications-1.0.8 tensorboard-1.14.0 tensorflow-1.14.0 tensorflow-estimator-1.14.0\n"
          ],
          "name": "stdout"
        },
        {
          "output_type": "stream",
          "text": [
            "/usr/local/lib/python3.6/dist-packages/tensorflow/python/framework/dtypes.py:516: FutureWarning: Passing (type, 1) or '1type' as a synonym of type is deprecated; in a future version of numpy, it will be understood as (type, (1,)) / '(1,)type'.\n",
            "  _np_qint8 = np.dtype([(\"qint8\", np.int8, 1)])\n",
            "/usr/local/lib/python3.6/dist-packages/tensorflow/python/framework/dtypes.py:517: FutureWarning: Passing (type, 1) or '1type' as a synonym of type is deprecated; in a future version of numpy, it will be understood as (type, (1,)) / '(1,)type'.\n",
            "  _np_quint8 = np.dtype([(\"quint8\", np.uint8, 1)])\n",
            "/usr/local/lib/python3.6/dist-packages/tensorflow/python/framework/dtypes.py:518: FutureWarning: Passing (type, 1) or '1type' as a synonym of type is deprecated; in a future version of numpy, it will be understood as (type, (1,)) / '(1,)type'.\n",
            "  _np_qint16 = np.dtype([(\"qint16\", np.int16, 1)])\n",
            "/usr/local/lib/python3.6/dist-packages/tensorflow/python/framework/dtypes.py:519: FutureWarning: Passing (type, 1) or '1type' as a synonym of type is deprecated; in a future version of numpy, it will be understood as (type, (1,)) / '(1,)type'.\n",
            "  _np_quint16 = np.dtype([(\"quint16\", np.uint16, 1)])\n",
            "/usr/local/lib/python3.6/dist-packages/tensorflow/python/framework/dtypes.py:520: FutureWarning: Passing (type, 1) or '1type' as a synonym of type is deprecated; in a future version of numpy, it will be understood as (type, (1,)) / '(1,)type'.\n",
            "  _np_qint32 = np.dtype([(\"qint32\", np.int32, 1)])\n",
            "/usr/local/lib/python3.6/dist-packages/tensorflow/python/framework/dtypes.py:525: FutureWarning: Passing (type, 1) or '1type' as a synonym of type is deprecated; in a future version of numpy, it will be understood as (type, (1,)) / '(1,)type'.\n",
            "  np_resource = np.dtype([(\"resource\", np.ubyte, 1)])\n",
            "/usr/local/lib/python3.6/dist-packages/tensorboard/compat/tensorflow_stub/dtypes.py:541: FutureWarning: Passing (type, 1) or '1type' as a synonym of type is deprecated; in a future version of numpy, it will be understood as (type, (1,)) / '(1,)type'.\n",
            "  _np_qint8 = np.dtype([(\"qint8\", np.int8, 1)])\n",
            "/usr/local/lib/python3.6/dist-packages/tensorboard/compat/tensorflow_stub/dtypes.py:542: FutureWarning: Passing (type, 1) or '1type' as a synonym of type is deprecated; in a future version of numpy, it will be understood as (type, (1,)) / '(1,)type'.\n",
            "  _np_quint8 = np.dtype([(\"quint8\", np.uint8, 1)])\n",
            "/usr/local/lib/python3.6/dist-packages/tensorboard/compat/tensorflow_stub/dtypes.py:543: FutureWarning: Passing (type, 1) or '1type' as a synonym of type is deprecated; in a future version of numpy, it will be understood as (type, (1,)) / '(1,)type'.\n",
            "  _np_qint16 = np.dtype([(\"qint16\", np.int16, 1)])\n",
            "/usr/local/lib/python3.6/dist-packages/tensorboard/compat/tensorflow_stub/dtypes.py:544: FutureWarning: Passing (type, 1) or '1type' as a synonym of type is deprecated; in a future version of numpy, it will be understood as (type, (1,)) / '(1,)type'.\n",
            "  _np_quint16 = np.dtype([(\"quint16\", np.uint16, 1)])\n",
            "/usr/local/lib/python3.6/dist-packages/tensorboard/compat/tensorflow_stub/dtypes.py:545: FutureWarning: Passing (type, 1) or '1type' as a synonym of type is deprecated; in a future version of numpy, it will be understood as (type, (1,)) / '(1,)type'.\n",
            "  _np_qint32 = np.dtype([(\"qint32\", np.int32, 1)])\n",
            "/usr/local/lib/python3.6/dist-packages/tensorboard/compat/tensorflow_stub/dtypes.py:550: FutureWarning: Passing (type, 1) or '1type' as a synonym of type is deprecated; in a future version of numpy, it will be understood as (type, (1,)) / '(1,)type'.\n",
            "  np_resource = np.dtype([(\"resource\", np.ubyte, 1)])\n"
          ],
          "name": "stderr"
        },
        {
          "output_type": "stream",
          "text": [
            "Done with the imports.\n"
          ],
          "name": "stdout"
        }
      ]
    },
    {
      "cell_type": "markdown",
      "metadata": {
        "id": "gH_CmiFUfECG"
      },
      "source": [
        "## Pandas -- Python Data Analysis Library\n",
        "\n",
        "We are using a package called [Pandas](http://pandas.pydata.org/) for reading in our data, exploring our data and doing some basic processing.  First \n",
        "we set up some options to control how items are displayed and the maximum number of rows to show when displaying a table.  Feel free to change this setup to whatever you'd like.\n",
        "\n",
        "As illustrated below, in colab you can define code cells that do not generate any output. In fact, the first cell would also have been that way except for the `print` statement at the end added just to help illustrate this aspect of colab. If at any point you are not sure if a cell is successfully running, you can add a print statement, but that should not be necessary since you can visually see when the cell is done running when the arrow is showing again. Also note that when you select the next cell the number showing the execution order of the cell appears."
      ]
    },
    {
      "cell_type": "code",
      "metadata": {
        "id": "nkipsYVxfDv4"
      },
      "source": [
        "# Set the output display to have one digit for decimal places, for display\n",
        "# readability only and limit it to printing 15 rows.\n",
        "pd.options.display.float_format = '{:.2f}'.format\n",
        "pd.options.display.max_rows = 15"
      ],
      "execution_count": 3,
      "outputs": []
    },
    {
      "cell_type": "markdown",
      "metadata": {
        "id": "F9TLXouIfYQI"
      },
      "source": [
        "### Loading the Data Set with Pandas\n",
        "The car data set we will be using in this lab is provided as a comma separated file without a header row.  In order, for each column to have a meaningful header name we must provide it.  We get the information about the columns from [Automobile Data Set](https://archive.ics.uci.edu/ml/datasets/automobile)\n"
      ]
    },
    {
      "cell_type": "code",
      "metadata": {
        "id": "wXuaBqVufYF4",
        "colab": {
          "base_uri": "https://localhost:8080/"
        },
        "outputId": "fdf17927-5721-476b-81c4-495b864b70c6"
      },
      "source": [
        "# Provide the names for the columns since the CSV file with the data does\n",
        "# not have a header row.\n",
        "cols = ['symboling', 'losses', 'make', 'fuel-type', 'aspiration', 'num-doors',\n",
        "        'body-style', 'drive-wheels', 'engine-location', 'wheel-base',\n",
        "        'length', 'width', 'height', 'weight', 'engine-type', 'num-cylinders',\n",
        "        'engine-size', 'fuel-system', 'bore', 'stroke', 'compression-ratio',\n",
        "        'horsepower', 'peak-rpm', 'city-mpg', 'highway-mpg', 'price']\n",
        "\n",
        "\n",
        "# Load in the data from a CSV file that is comma seperated.\n",
        "car_data = pd.read_csv('https://storage.googleapis.com/ml_universities/cars_dataset/cars_data.csv',\n",
        "                        sep=',', names=cols, header=None, encoding='latin-1')\n",
        "\n",
        "print(\"Data set loaded.\")"
      ],
      "execution_count": 4,
      "outputs": [
        {
          "output_type": "stream",
          "text": [
            "Data set loaded.\n"
          ],
          "name": "stdout"
        }
      ]
    },
    {
      "cell_type": "markdown",
      "metadata": {
        "id": "HzzlSs3PtTmt"
      },
      "source": [
        "### Examine the Data\n",
        "\n",
        "It's a good idea to get to know your data a little bit before you work with it. Let's look at the header row and the first 10 rows of data.\n"
      ]
    },
    {
      "cell_type": "code",
      "metadata": {
        "id": "tVmE-kNotzWG",
        "colab": {
          "base_uri": "https://localhost:8080/",
          "height": 399
        },
        "outputId": "479d35fc-939c-4d47-e9eb-deb61743aa1c"
      },
      "source": [
        "car_data[1:10]"
      ],
      "execution_count": 5,
      "outputs": [
        {
          "output_type": "execute_result",
          "data": {
            "text/html": [
              "<div>\n",
              "<style scoped>\n",
              "    .dataframe tbody tr th:only-of-type {\n",
              "        vertical-align: middle;\n",
              "    }\n",
              "\n",
              "    .dataframe tbody tr th {\n",
              "        vertical-align: top;\n",
              "    }\n",
              "\n",
              "    .dataframe thead th {\n",
              "        text-align: right;\n",
              "    }\n",
              "</style>\n",
              "<table border=\"1\" class=\"dataframe\">\n",
              "  <thead>\n",
              "    <tr style=\"text-align: right;\">\n",
              "      <th></th>\n",
              "      <th>symboling</th>\n",
              "      <th>losses</th>\n",
              "      <th>make</th>\n",
              "      <th>fuel-type</th>\n",
              "      <th>aspiration</th>\n",
              "      <th>num-doors</th>\n",
              "      <th>body-style</th>\n",
              "      <th>drive-wheels</th>\n",
              "      <th>engine-location</th>\n",
              "      <th>wheel-base</th>\n",
              "      <th>length</th>\n",
              "      <th>width</th>\n",
              "      <th>height</th>\n",
              "      <th>weight</th>\n",
              "      <th>engine-type</th>\n",
              "      <th>num-cylinders</th>\n",
              "      <th>engine-size</th>\n",
              "      <th>fuel-system</th>\n",
              "      <th>bore</th>\n",
              "      <th>stroke</th>\n",
              "      <th>compression-ratio</th>\n",
              "      <th>horsepower</th>\n",
              "      <th>peak-rpm</th>\n",
              "      <th>city-mpg</th>\n",
              "      <th>highway-mpg</th>\n",
              "      <th>price</th>\n",
              "    </tr>\n",
              "  </thead>\n",
              "  <tbody>\n",
              "    <tr>\n",
              "      <th>1</th>\n",
              "      <td>3</td>\n",
              "      <td>?</td>\n",
              "      <td>alfa-romero</td>\n",
              "      <td>gas</td>\n",
              "      <td>std</td>\n",
              "      <td>two</td>\n",
              "      <td>convertible</td>\n",
              "      <td>rwd</td>\n",
              "      <td>front</td>\n",
              "      <td>88.60</td>\n",
              "      <td>168.80</td>\n",
              "      <td>64.10</td>\n",
              "      <td>48.80</td>\n",
              "      <td>2548</td>\n",
              "      <td>dohc</td>\n",
              "      <td>four</td>\n",
              "      <td>130</td>\n",
              "      <td>mpfi</td>\n",
              "      <td>3.47</td>\n",
              "      <td>2.68</td>\n",
              "      <td>9.00</td>\n",
              "      <td>111</td>\n",
              "      <td>5000</td>\n",
              "      <td>21</td>\n",
              "      <td>27</td>\n",
              "      <td>16500</td>\n",
              "    </tr>\n",
              "    <tr>\n",
              "      <th>2</th>\n",
              "      <td>1</td>\n",
              "      <td>?</td>\n",
              "      <td>alfa-romero</td>\n",
              "      <td>gas</td>\n",
              "      <td>std</td>\n",
              "      <td>two</td>\n",
              "      <td>hatchback</td>\n",
              "      <td>rwd</td>\n",
              "      <td>front</td>\n",
              "      <td>94.50</td>\n",
              "      <td>171.20</td>\n",
              "      <td>65.50</td>\n",
              "      <td>52.40</td>\n",
              "      <td>2823</td>\n",
              "      <td>ohcv</td>\n",
              "      <td>six</td>\n",
              "      <td>152</td>\n",
              "      <td>mpfi</td>\n",
              "      <td>2.68</td>\n",
              "      <td>3.47</td>\n",
              "      <td>9.00</td>\n",
              "      <td>154</td>\n",
              "      <td>5000</td>\n",
              "      <td>19</td>\n",
              "      <td>26</td>\n",
              "      <td>16500</td>\n",
              "    </tr>\n",
              "    <tr>\n",
              "      <th>3</th>\n",
              "      <td>2</td>\n",
              "      <td>164</td>\n",
              "      <td>audi</td>\n",
              "      <td>gas</td>\n",
              "      <td>std</td>\n",
              "      <td>four</td>\n",
              "      <td>sedan</td>\n",
              "      <td>fwd</td>\n",
              "      <td>front</td>\n",
              "      <td>99.80</td>\n",
              "      <td>176.60</td>\n",
              "      <td>66.20</td>\n",
              "      <td>54.30</td>\n",
              "      <td>2337</td>\n",
              "      <td>ohc</td>\n",
              "      <td>four</td>\n",
              "      <td>109</td>\n",
              "      <td>mpfi</td>\n",
              "      <td>3.19</td>\n",
              "      <td>3.40</td>\n",
              "      <td>10.00</td>\n",
              "      <td>102</td>\n",
              "      <td>5500</td>\n",
              "      <td>24</td>\n",
              "      <td>30</td>\n",
              "      <td>13950</td>\n",
              "    </tr>\n",
              "    <tr>\n",
              "      <th>4</th>\n",
              "      <td>2</td>\n",
              "      <td>164</td>\n",
              "      <td>audi</td>\n",
              "      <td>gas</td>\n",
              "      <td>std</td>\n",
              "      <td>four</td>\n",
              "      <td>sedan</td>\n",
              "      <td>4wd</td>\n",
              "      <td>front</td>\n",
              "      <td>99.40</td>\n",
              "      <td>176.60</td>\n",
              "      <td>66.40</td>\n",
              "      <td>54.30</td>\n",
              "      <td>2824</td>\n",
              "      <td>ohc</td>\n",
              "      <td>five</td>\n",
              "      <td>136</td>\n",
              "      <td>mpfi</td>\n",
              "      <td>3.19</td>\n",
              "      <td>3.40</td>\n",
              "      <td>8.00</td>\n",
              "      <td>115</td>\n",
              "      <td>5500</td>\n",
              "      <td>18</td>\n",
              "      <td>22</td>\n",
              "      <td>17450</td>\n",
              "    </tr>\n",
              "    <tr>\n",
              "      <th>5</th>\n",
              "      <td>2</td>\n",
              "      <td>?</td>\n",
              "      <td>audi</td>\n",
              "      <td>gas</td>\n",
              "      <td>std</td>\n",
              "      <td>two</td>\n",
              "      <td>sedan</td>\n",
              "      <td>fwd</td>\n",
              "      <td>front</td>\n",
              "      <td>99.80</td>\n",
              "      <td>177.30</td>\n",
              "      <td>66.30</td>\n",
              "      <td>53.10</td>\n",
              "      <td>2507</td>\n",
              "      <td>ohc</td>\n",
              "      <td>five</td>\n",
              "      <td>136</td>\n",
              "      <td>mpfi</td>\n",
              "      <td>3.19</td>\n",
              "      <td>3.40</td>\n",
              "      <td>8.50</td>\n",
              "      <td>110</td>\n",
              "      <td>5500</td>\n",
              "      <td>19</td>\n",
              "      <td>25</td>\n",
              "      <td>15250</td>\n",
              "    </tr>\n",
              "    <tr>\n",
              "      <th>6</th>\n",
              "      <td>1</td>\n",
              "      <td>158</td>\n",
              "      <td>audi</td>\n",
              "      <td>gas</td>\n",
              "      <td>std</td>\n",
              "      <td>four</td>\n",
              "      <td>sedan</td>\n",
              "      <td>fwd</td>\n",
              "      <td>front</td>\n",
              "      <td>105.80</td>\n",
              "      <td>192.70</td>\n",
              "      <td>71.40</td>\n",
              "      <td>55.70</td>\n",
              "      <td>2844</td>\n",
              "      <td>ohc</td>\n",
              "      <td>five</td>\n",
              "      <td>136</td>\n",
              "      <td>mpfi</td>\n",
              "      <td>3.19</td>\n",
              "      <td>3.40</td>\n",
              "      <td>8.50</td>\n",
              "      <td>110</td>\n",
              "      <td>5500</td>\n",
              "      <td>19</td>\n",
              "      <td>25</td>\n",
              "      <td>17710</td>\n",
              "    </tr>\n",
              "    <tr>\n",
              "      <th>7</th>\n",
              "      <td>1</td>\n",
              "      <td>?</td>\n",
              "      <td>audi</td>\n",
              "      <td>gas</td>\n",
              "      <td>std</td>\n",
              "      <td>four</td>\n",
              "      <td>wagon</td>\n",
              "      <td>fwd</td>\n",
              "      <td>front</td>\n",
              "      <td>105.80</td>\n",
              "      <td>192.70</td>\n",
              "      <td>71.40</td>\n",
              "      <td>55.70</td>\n",
              "      <td>2954</td>\n",
              "      <td>ohc</td>\n",
              "      <td>five</td>\n",
              "      <td>136</td>\n",
              "      <td>mpfi</td>\n",
              "      <td>3.19</td>\n",
              "      <td>3.40</td>\n",
              "      <td>8.50</td>\n",
              "      <td>110</td>\n",
              "      <td>5500</td>\n",
              "      <td>19</td>\n",
              "      <td>25</td>\n",
              "      <td>18920</td>\n",
              "    </tr>\n",
              "    <tr>\n",
              "      <th>8</th>\n",
              "      <td>1</td>\n",
              "      <td>158</td>\n",
              "      <td>audi</td>\n",
              "      <td>gas</td>\n",
              "      <td>turbo</td>\n",
              "      <td>four</td>\n",
              "      <td>sedan</td>\n",
              "      <td>fwd</td>\n",
              "      <td>front</td>\n",
              "      <td>105.80</td>\n",
              "      <td>192.70</td>\n",
              "      <td>71.40</td>\n",
              "      <td>55.90</td>\n",
              "      <td>3086</td>\n",
              "      <td>ohc</td>\n",
              "      <td>five</td>\n",
              "      <td>131</td>\n",
              "      <td>mpfi</td>\n",
              "      <td>3.13</td>\n",
              "      <td>3.40</td>\n",
              "      <td>8.30</td>\n",
              "      <td>140</td>\n",
              "      <td>5500</td>\n",
              "      <td>17</td>\n",
              "      <td>20</td>\n",
              "      <td>23875</td>\n",
              "    </tr>\n",
              "    <tr>\n",
              "      <th>9</th>\n",
              "      <td>0</td>\n",
              "      <td>?</td>\n",
              "      <td>audi</td>\n",
              "      <td>gas</td>\n",
              "      <td>turbo</td>\n",
              "      <td>two</td>\n",
              "      <td>hatchback</td>\n",
              "      <td>4wd</td>\n",
              "      <td>front</td>\n",
              "      <td>99.50</td>\n",
              "      <td>178.20</td>\n",
              "      <td>67.90</td>\n",
              "      <td>52.00</td>\n",
              "      <td>3053</td>\n",
              "      <td>ohc</td>\n",
              "      <td>five</td>\n",
              "      <td>131</td>\n",
              "      <td>mpfi</td>\n",
              "      <td>3.13</td>\n",
              "      <td>3.40</td>\n",
              "      <td>7.00</td>\n",
              "      <td>160</td>\n",
              "      <td>5500</td>\n",
              "      <td>16</td>\n",
              "      <td>22</td>\n",
              "      <td>?</td>\n",
              "    </tr>\n",
              "  </tbody>\n",
              "</table>\n",
              "</div>"
            ],
            "text/plain": [
              "   symboling losses         make  ... city-mpg highway-mpg  price\n",
              "1          3      ?  alfa-romero  ...       21          27  16500\n",
              "2          1      ?  alfa-romero  ...       19          26  16500\n",
              "3          2    164         audi  ...       24          30  13950\n",
              "4          2    164         audi  ...       18          22  17450\n",
              "5          2      ?         audi  ...       19          25  15250\n",
              "6          1    158         audi  ...       19          25  17710\n",
              "7          1      ?         audi  ...       19          25  18920\n",
              "8          1    158         audi  ...       17          20  23875\n",
              "9          0      ?         audi  ...       16          22      ?\n",
              "\n",
              "[9 rows x 26 columns]"
            ]
          },
          "metadata": {
            "tags": []
          },
          "execution_count": 5
        }
      ]
    },
    {
      "cell_type": "markdown",
      "metadata": {
        "id": "Cih-K3tetkgb"
      },
      "source": [
        "### Look at Some Basic Statistics About the Data\n",
        "We'll print out a quick summary of a few useful statistics on each column. This will include things like mean, standard deviation, max, min, and various quantiles."
      ]
    },
    {
      "cell_type": "code",
      "metadata": {
        "cellView": "both",
        "colab": {
          "base_uri": "https://localhost:8080/",
          "height": 297
        },
        "id": "gzb10yoVrydW",
        "outputId": "146bcbb7-6476-408e-8448-3ab7dc0b4628"
      },
      "source": [
        "car_data.describe()"
      ],
      "execution_count": 6,
      "outputs": [
        {
          "output_type": "execute_result",
          "data": {
            "text/html": [
              "<div>\n",
              "<style scoped>\n",
              "    .dataframe tbody tr th:only-of-type {\n",
              "        vertical-align: middle;\n",
              "    }\n",
              "\n",
              "    .dataframe tbody tr th {\n",
              "        vertical-align: top;\n",
              "    }\n",
              "\n",
              "    .dataframe thead th {\n",
              "        text-align: right;\n",
              "    }\n",
              "</style>\n",
              "<table border=\"1\" class=\"dataframe\">\n",
              "  <thead>\n",
              "    <tr style=\"text-align: right;\">\n",
              "      <th></th>\n",
              "      <th>symboling</th>\n",
              "      <th>wheel-base</th>\n",
              "      <th>length</th>\n",
              "      <th>width</th>\n",
              "      <th>height</th>\n",
              "      <th>weight</th>\n",
              "      <th>engine-size</th>\n",
              "      <th>compression-ratio</th>\n",
              "      <th>city-mpg</th>\n",
              "      <th>highway-mpg</th>\n",
              "    </tr>\n",
              "  </thead>\n",
              "  <tbody>\n",
              "    <tr>\n",
              "      <th>count</th>\n",
              "      <td>205.00</td>\n",
              "      <td>205.00</td>\n",
              "      <td>205.00</td>\n",
              "      <td>205.00</td>\n",
              "      <td>205.00</td>\n",
              "      <td>205.00</td>\n",
              "      <td>205.00</td>\n",
              "      <td>205.00</td>\n",
              "      <td>205.00</td>\n",
              "      <td>205.00</td>\n",
              "    </tr>\n",
              "    <tr>\n",
              "      <th>mean</th>\n",
              "      <td>0.83</td>\n",
              "      <td>98.76</td>\n",
              "      <td>174.05</td>\n",
              "      <td>65.91</td>\n",
              "      <td>53.72</td>\n",
              "      <td>2555.57</td>\n",
              "      <td>126.91</td>\n",
              "      <td>10.14</td>\n",
              "      <td>25.22</td>\n",
              "      <td>30.75</td>\n",
              "    </tr>\n",
              "    <tr>\n",
              "      <th>std</th>\n",
              "      <td>1.25</td>\n",
              "      <td>6.02</td>\n",
              "      <td>12.34</td>\n",
              "      <td>2.15</td>\n",
              "      <td>2.44</td>\n",
              "      <td>520.68</td>\n",
              "      <td>41.64</td>\n",
              "      <td>3.97</td>\n",
              "      <td>6.54</td>\n",
              "      <td>6.89</td>\n",
              "    </tr>\n",
              "    <tr>\n",
              "      <th>min</th>\n",
              "      <td>-2.00</td>\n",
              "      <td>86.60</td>\n",
              "      <td>141.10</td>\n",
              "      <td>60.30</td>\n",
              "      <td>47.80</td>\n",
              "      <td>1488.00</td>\n",
              "      <td>61.00</td>\n",
              "      <td>7.00</td>\n",
              "      <td>13.00</td>\n",
              "      <td>16.00</td>\n",
              "    </tr>\n",
              "    <tr>\n",
              "      <th>25%</th>\n",
              "      <td>0.00</td>\n",
              "      <td>94.50</td>\n",
              "      <td>166.30</td>\n",
              "      <td>64.10</td>\n",
              "      <td>52.00</td>\n",
              "      <td>2145.00</td>\n",
              "      <td>97.00</td>\n",
              "      <td>8.60</td>\n",
              "      <td>19.00</td>\n",
              "      <td>25.00</td>\n",
              "    </tr>\n",
              "    <tr>\n",
              "      <th>50%</th>\n",
              "      <td>1.00</td>\n",
              "      <td>97.00</td>\n",
              "      <td>173.20</td>\n",
              "      <td>65.50</td>\n",
              "      <td>54.10</td>\n",
              "      <td>2414.00</td>\n",
              "      <td>120.00</td>\n",
              "      <td>9.00</td>\n",
              "      <td>24.00</td>\n",
              "      <td>30.00</td>\n",
              "    </tr>\n",
              "    <tr>\n",
              "      <th>75%</th>\n",
              "      <td>2.00</td>\n",
              "      <td>102.40</td>\n",
              "      <td>183.10</td>\n",
              "      <td>66.90</td>\n",
              "      <td>55.50</td>\n",
              "      <td>2935.00</td>\n",
              "      <td>141.00</td>\n",
              "      <td>9.40</td>\n",
              "      <td>30.00</td>\n",
              "      <td>34.00</td>\n",
              "    </tr>\n",
              "    <tr>\n",
              "      <th>max</th>\n",
              "      <td>3.00</td>\n",
              "      <td>120.90</td>\n",
              "      <td>208.10</td>\n",
              "      <td>72.30</td>\n",
              "      <td>59.80</td>\n",
              "      <td>4066.00</td>\n",
              "      <td>326.00</td>\n",
              "      <td>23.00</td>\n",
              "      <td>49.00</td>\n",
              "      <td>54.00</td>\n",
              "    </tr>\n",
              "  </tbody>\n",
              "</table>\n",
              "</div>"
            ],
            "text/plain": [
              "       symboling  wheel-base  length  ...  compression-ratio  city-mpg  highway-mpg\n",
              "count     205.00      205.00  205.00  ...             205.00    205.00       205.00\n",
              "mean        0.83       98.76  174.05  ...              10.14     25.22        30.75\n",
              "std         1.25        6.02   12.34  ...               3.97      6.54         6.89\n",
              "min        -2.00       86.60  141.10  ...               7.00     13.00        16.00\n",
              "25%         0.00       94.50  166.30  ...               8.60     19.00        25.00\n",
              "50%         1.00       97.00  173.20  ...               9.00     24.00        30.00\n",
              "75%         2.00      102.40  183.10  ...               9.40     30.00        34.00\n",
              "max         3.00      120.90  208.10  ...              23.00     49.00        54.00\n",
              "\n",
              "[8 rows x 10 columns]"
            ]
          },
          "metadata": {
            "tags": []
          },
          "execution_count": 6
        }
      ]
    },
    {
      "cell_type": "markdown",
      "metadata": {
        "id": "VPUHcV0vuOAW"
      },
      "source": [
        "### Handling Missing Data Entries\n",
        "Why are some columns such as the price and losses not showing in the summary column?  If we look at the data more carefuly, we'll see that a \"?\" was used in this data set to indicate that a value is unknown.\n",
        "\n",
        "Pandas provices a method [to_numeric](http://pandas.pydata.org/pandas-docs/version/0.18.1/generated/pandas.to_numeric.html) that converts a column to be numeric. There are three options about how to handle errors (entries that are not numeric) of which 'coerce' is what we want to use in this situation, since it converts those entries to pandas representation `NaN` for \"not a number\".\n",
        "\n",
        "Notice now when you use `describe` to see the statistics for the entries that are a number, the count indicates how many entries had a number (not `NaN`) for that column."
      ]
    },
    {
      "cell_type": "code",
      "metadata": {
        "id": "WJg129wyugzF",
        "colab": {
          "base_uri": "https://localhost:8080/",
          "height": 314
        },
        "outputId": "6641dc92-dc96-4a9e-f744-41e9953db17c"
      },
      "source": [
        "car_data['price'] = pd.to_numeric(car_data['price'], errors='coerce')\n",
        "car_data['horsepower'] = pd.to_numeric(car_data['horsepower'], errors='coerce')\n",
        "car_data['peak-rpm'] = pd.to_numeric(car_data['peak-rpm'], errors='coerce')\n",
        "car_data['city-mpg'] = pd.to_numeric(car_data['city-mpg'], errors='coerce')\n",
        "car_data['highway-mpg'] = pd.to_numeric(car_data['highway-mpg'], errors='coerce')\n",
        "car_data['losses'] = pd.to_numeric(car_data['losses'], errors='coerce')\n",
        "car_data.describe()"
      ],
      "execution_count": 7,
      "outputs": [
        {
          "output_type": "execute_result",
          "data": {
            "text/html": [
              "<div>\n",
              "<style scoped>\n",
              "    .dataframe tbody tr th:only-of-type {\n",
              "        vertical-align: middle;\n",
              "    }\n",
              "\n",
              "    .dataframe tbody tr th {\n",
              "        vertical-align: top;\n",
              "    }\n",
              "\n",
              "    .dataframe thead th {\n",
              "        text-align: right;\n",
              "    }\n",
              "</style>\n",
              "<table border=\"1\" class=\"dataframe\">\n",
              "  <thead>\n",
              "    <tr style=\"text-align: right;\">\n",
              "      <th></th>\n",
              "      <th>symboling</th>\n",
              "      <th>losses</th>\n",
              "      <th>wheel-base</th>\n",
              "      <th>length</th>\n",
              "      <th>width</th>\n",
              "      <th>height</th>\n",
              "      <th>weight</th>\n",
              "      <th>engine-size</th>\n",
              "      <th>compression-ratio</th>\n",
              "      <th>horsepower</th>\n",
              "      <th>peak-rpm</th>\n",
              "      <th>city-mpg</th>\n",
              "      <th>highway-mpg</th>\n",
              "      <th>price</th>\n",
              "    </tr>\n",
              "  </thead>\n",
              "  <tbody>\n",
              "    <tr>\n",
              "      <th>count</th>\n",
              "      <td>205.00</td>\n",
              "      <td>164.00</td>\n",
              "      <td>205.00</td>\n",
              "      <td>205.00</td>\n",
              "      <td>205.00</td>\n",
              "      <td>205.00</td>\n",
              "      <td>205.00</td>\n",
              "      <td>205.00</td>\n",
              "      <td>205.00</td>\n",
              "      <td>203.00</td>\n",
              "      <td>203.00</td>\n",
              "      <td>205.00</td>\n",
              "      <td>205.00</td>\n",
              "      <td>201.00</td>\n",
              "    </tr>\n",
              "    <tr>\n",
              "      <th>mean</th>\n",
              "      <td>0.83</td>\n",
              "      <td>122.00</td>\n",
              "      <td>98.76</td>\n",
              "      <td>174.05</td>\n",
              "      <td>65.91</td>\n",
              "      <td>53.72</td>\n",
              "      <td>2555.57</td>\n",
              "      <td>126.91</td>\n",
              "      <td>10.14</td>\n",
              "      <td>104.26</td>\n",
              "      <td>5125.37</td>\n",
              "      <td>25.22</td>\n",
              "      <td>30.75</td>\n",
              "      <td>13207.13</td>\n",
              "    </tr>\n",
              "    <tr>\n",
              "      <th>std</th>\n",
              "      <td>1.25</td>\n",
              "      <td>35.44</td>\n",
              "      <td>6.02</td>\n",
              "      <td>12.34</td>\n",
              "      <td>2.15</td>\n",
              "      <td>2.44</td>\n",
              "      <td>520.68</td>\n",
              "      <td>41.64</td>\n",
              "      <td>3.97</td>\n",
              "      <td>39.71</td>\n",
              "      <td>479.33</td>\n",
              "      <td>6.54</td>\n",
              "      <td>6.89</td>\n",
              "      <td>7947.07</td>\n",
              "    </tr>\n",
              "    <tr>\n",
              "      <th>min</th>\n",
              "      <td>-2.00</td>\n",
              "      <td>65.00</td>\n",
              "      <td>86.60</td>\n",
              "      <td>141.10</td>\n",
              "      <td>60.30</td>\n",
              "      <td>47.80</td>\n",
              "      <td>1488.00</td>\n",
              "      <td>61.00</td>\n",
              "      <td>7.00</td>\n",
              "      <td>48.00</td>\n",
              "      <td>4150.00</td>\n",
              "      <td>13.00</td>\n",
              "      <td>16.00</td>\n",
              "      <td>5118.00</td>\n",
              "    </tr>\n",
              "    <tr>\n",
              "      <th>25%</th>\n",
              "      <td>0.00</td>\n",
              "      <td>94.00</td>\n",
              "      <td>94.50</td>\n",
              "      <td>166.30</td>\n",
              "      <td>64.10</td>\n",
              "      <td>52.00</td>\n",
              "      <td>2145.00</td>\n",
              "      <td>97.00</td>\n",
              "      <td>8.60</td>\n",
              "      <td>70.00</td>\n",
              "      <td>4800.00</td>\n",
              "      <td>19.00</td>\n",
              "      <td>25.00</td>\n",
              "      <td>7775.00</td>\n",
              "    </tr>\n",
              "    <tr>\n",
              "      <th>50%</th>\n",
              "      <td>1.00</td>\n",
              "      <td>115.00</td>\n",
              "      <td>97.00</td>\n",
              "      <td>173.20</td>\n",
              "      <td>65.50</td>\n",
              "      <td>54.10</td>\n",
              "      <td>2414.00</td>\n",
              "      <td>120.00</td>\n",
              "      <td>9.00</td>\n",
              "      <td>95.00</td>\n",
              "      <td>5200.00</td>\n",
              "      <td>24.00</td>\n",
              "      <td>30.00</td>\n",
              "      <td>10295.00</td>\n",
              "    </tr>\n",
              "    <tr>\n",
              "      <th>75%</th>\n",
              "      <td>2.00</td>\n",
              "      <td>150.00</td>\n",
              "      <td>102.40</td>\n",
              "      <td>183.10</td>\n",
              "      <td>66.90</td>\n",
              "      <td>55.50</td>\n",
              "      <td>2935.00</td>\n",
              "      <td>141.00</td>\n",
              "      <td>9.40</td>\n",
              "      <td>116.00</td>\n",
              "      <td>5500.00</td>\n",
              "      <td>30.00</td>\n",
              "      <td>34.00</td>\n",
              "      <td>16500.00</td>\n",
              "    </tr>\n",
              "    <tr>\n",
              "      <th>max</th>\n",
              "      <td>3.00</td>\n",
              "      <td>256.00</td>\n",
              "      <td>120.90</td>\n",
              "      <td>208.10</td>\n",
              "      <td>72.30</td>\n",
              "      <td>59.80</td>\n",
              "      <td>4066.00</td>\n",
              "      <td>326.00</td>\n",
              "      <td>23.00</td>\n",
              "      <td>288.00</td>\n",
              "      <td>6600.00</td>\n",
              "      <td>49.00</td>\n",
              "      <td>54.00</td>\n",
              "      <td>45400.00</td>\n",
              "    </tr>\n",
              "  </tbody>\n",
              "</table>\n",
              "</div>"
            ],
            "text/plain": [
              "       symboling  losses  wheel-base  ...  city-mpg  highway-mpg    price\n",
              "count     205.00  164.00      205.00  ...    205.00       205.00   201.00\n",
              "mean        0.83  122.00       98.76  ...     25.22        30.75 13207.13\n",
              "std         1.25   35.44        6.02  ...      6.54         6.89  7947.07\n",
              "min        -2.00   65.00       86.60  ...     13.00        16.00  5118.00\n",
              "25%         0.00   94.00       94.50  ...     19.00        25.00  7775.00\n",
              "50%         1.00  115.00       97.00  ...     24.00        30.00 10295.00\n",
              "75%         2.00  150.00      102.40  ...     30.00        34.00 16500.00\n",
              "max         3.00  256.00      120.90  ...     49.00        54.00 45400.00\n",
              "\n",
              "[8 rows x 14 columns]"
            ]
          },
          "metadata": {
            "tags": []
          },
          "execution_count": 7
        }
      ]
    },
    {
      "cell_type": "markdown",
      "metadata": {
        "id": "3pU9zynBiU0x"
      },
      "source": [
        "### Replacing NAN by zero\n",
        "When training a linear model using features that is numerical, we **cannot have `NaN` (doing so would cause overflow when training)**. Here we replace `NaN` (which corresponding to where we had missing entries) by 0."
      ]
    },
    {
      "cell_type": "code",
      "metadata": {
        "id": "Fsg8khAgiUm9",
        "colab": {
          "base_uri": "https://localhost:8080/",
          "height": 314
        },
        "outputId": "6233f9d3-922e-4984-86d4-64f1339c8455"
      },
      "source": [
        "# Replace nan by the mean storing the solution in the same table (`inplace')\n",
        "car_data.fillna(0, inplace=True)\n",
        "car_data.describe()"
      ],
      "execution_count": 8,
      "outputs": [
        {
          "output_type": "execute_result",
          "data": {
            "text/html": [
              "<div>\n",
              "<style scoped>\n",
              "    .dataframe tbody tr th:only-of-type {\n",
              "        vertical-align: middle;\n",
              "    }\n",
              "\n",
              "    .dataframe tbody tr th {\n",
              "        vertical-align: top;\n",
              "    }\n",
              "\n",
              "    .dataframe thead th {\n",
              "        text-align: right;\n",
              "    }\n",
              "</style>\n",
              "<table border=\"1\" class=\"dataframe\">\n",
              "  <thead>\n",
              "    <tr style=\"text-align: right;\">\n",
              "      <th></th>\n",
              "      <th>symboling</th>\n",
              "      <th>losses</th>\n",
              "      <th>wheel-base</th>\n",
              "      <th>length</th>\n",
              "      <th>width</th>\n",
              "      <th>height</th>\n",
              "      <th>weight</th>\n",
              "      <th>engine-size</th>\n",
              "      <th>compression-ratio</th>\n",
              "      <th>horsepower</th>\n",
              "      <th>peak-rpm</th>\n",
              "      <th>city-mpg</th>\n",
              "      <th>highway-mpg</th>\n",
              "      <th>price</th>\n",
              "    </tr>\n",
              "  </thead>\n",
              "  <tbody>\n",
              "    <tr>\n",
              "      <th>count</th>\n",
              "      <td>205.00</td>\n",
              "      <td>205.00</td>\n",
              "      <td>205.00</td>\n",
              "      <td>205.00</td>\n",
              "      <td>205.00</td>\n",
              "      <td>205.00</td>\n",
              "      <td>205.00</td>\n",
              "      <td>205.00</td>\n",
              "      <td>205.00</td>\n",
              "      <td>205.00</td>\n",
              "      <td>205.00</td>\n",
              "      <td>205.00</td>\n",
              "      <td>205.00</td>\n",
              "      <td>205.00</td>\n",
              "    </tr>\n",
              "    <tr>\n",
              "      <th>mean</th>\n",
              "      <td>0.83</td>\n",
              "      <td>97.60</td>\n",
              "      <td>98.76</td>\n",
              "      <td>174.05</td>\n",
              "      <td>65.91</td>\n",
              "      <td>53.72</td>\n",
              "      <td>2555.57</td>\n",
              "      <td>126.91</td>\n",
              "      <td>10.14</td>\n",
              "      <td>103.24</td>\n",
              "      <td>5075.37</td>\n",
              "      <td>25.22</td>\n",
              "      <td>30.75</td>\n",
              "      <td>12949.43</td>\n",
              "    </tr>\n",
              "    <tr>\n",
              "      <th>std</th>\n",
              "      <td>1.25</td>\n",
              "      <td>58.28</td>\n",
              "      <td>6.02</td>\n",
              "      <td>12.34</td>\n",
              "      <td>2.15</td>\n",
              "      <td>2.44</td>\n",
              "      <td>520.68</td>\n",
              "      <td>41.64</td>\n",
              "      <td>3.97</td>\n",
              "      <td>40.83</td>\n",
              "      <td>694.65</td>\n",
              "      <td>6.54</td>\n",
              "      <td>6.89</td>\n",
              "      <td>8079.04</td>\n",
              "    </tr>\n",
              "    <tr>\n",
              "      <th>min</th>\n",
              "      <td>-2.00</td>\n",
              "      <td>0.00</td>\n",
              "      <td>86.60</td>\n",
              "      <td>141.10</td>\n",
              "      <td>60.30</td>\n",
              "      <td>47.80</td>\n",
              "      <td>1488.00</td>\n",
              "      <td>61.00</td>\n",
              "      <td>7.00</td>\n",
              "      <td>0.00</td>\n",
              "      <td>0.00</td>\n",
              "      <td>13.00</td>\n",
              "      <td>16.00</td>\n",
              "      <td>0.00</td>\n",
              "    </tr>\n",
              "    <tr>\n",
              "      <th>25%</th>\n",
              "      <td>0.00</td>\n",
              "      <td>77.00</td>\n",
              "      <td>94.50</td>\n",
              "      <td>166.30</td>\n",
              "      <td>64.10</td>\n",
              "      <td>52.00</td>\n",
              "      <td>2145.00</td>\n",
              "      <td>97.00</td>\n",
              "      <td>8.60</td>\n",
              "      <td>70.00</td>\n",
              "      <td>4800.00</td>\n",
              "      <td>19.00</td>\n",
              "      <td>25.00</td>\n",
              "      <td>7689.00</td>\n",
              "    </tr>\n",
              "    <tr>\n",
              "      <th>50%</th>\n",
              "      <td>1.00</td>\n",
              "      <td>103.00</td>\n",
              "      <td>97.00</td>\n",
              "      <td>173.20</td>\n",
              "      <td>65.50</td>\n",
              "      <td>54.10</td>\n",
              "      <td>2414.00</td>\n",
              "      <td>120.00</td>\n",
              "      <td>9.00</td>\n",
              "      <td>95.00</td>\n",
              "      <td>5200.00</td>\n",
              "      <td>24.00</td>\n",
              "      <td>30.00</td>\n",
              "      <td>10198.00</td>\n",
              "    </tr>\n",
              "    <tr>\n",
              "      <th>75%</th>\n",
              "      <td>2.00</td>\n",
              "      <td>137.00</td>\n",
              "      <td>102.40</td>\n",
              "      <td>183.10</td>\n",
              "      <td>66.90</td>\n",
              "      <td>55.50</td>\n",
              "      <td>2935.00</td>\n",
              "      <td>141.00</td>\n",
              "      <td>9.40</td>\n",
              "      <td>116.00</td>\n",
              "      <td>5500.00</td>\n",
              "      <td>30.00</td>\n",
              "      <td>34.00</td>\n",
              "      <td>16500.00</td>\n",
              "    </tr>\n",
              "    <tr>\n",
              "      <th>max</th>\n",
              "      <td>3.00</td>\n",
              "      <td>256.00</td>\n",
              "      <td>120.90</td>\n",
              "      <td>208.10</td>\n",
              "      <td>72.30</td>\n",
              "      <td>59.80</td>\n",
              "      <td>4066.00</td>\n",
              "      <td>326.00</td>\n",
              "      <td>23.00</td>\n",
              "      <td>288.00</td>\n",
              "      <td>6600.00</td>\n",
              "      <td>49.00</td>\n",
              "      <td>54.00</td>\n",
              "      <td>45400.00</td>\n",
              "    </tr>\n",
              "  </tbody>\n",
              "</table>\n",
              "</div>"
            ],
            "text/plain": [
              "       symboling  losses  wheel-base  ...  city-mpg  highway-mpg    price\n",
              "count     205.00  205.00      205.00  ...    205.00       205.00   205.00\n",
              "mean        0.83   97.60       98.76  ...     25.22        30.75 12949.43\n",
              "std         1.25   58.28        6.02  ...      6.54         6.89  8079.04\n",
              "min        -2.00    0.00       86.60  ...     13.00        16.00     0.00\n",
              "25%         0.00   77.00       94.50  ...     19.00        25.00  7689.00\n",
              "50%         1.00  103.00       97.00  ...     24.00        30.00 10198.00\n",
              "75%         2.00  137.00      102.40  ...     30.00        34.00 16500.00\n",
              "max         3.00  256.00      120.90  ...     49.00        54.00 45400.00\n",
              "\n",
              "[8 rows x 14 columns]"
            ]
          },
          "metadata": {
            "tags": []
          },
          "execution_count": 8
        }
      ]
    },
    {
      "cell_type": "markdown",
      "metadata": {
        "id": "Ct-amQLex0oD"
      },
      "source": [
        "### Using a Scatter Plot to Visualize the Data\n",
        "\n",
        "We will begin by trying to predict the price using the horsepower.  Because we just have a single feature we can visualize the raw data using a scatter plot."
      ]
    },
    {
      "cell_type": "code",
      "metadata": {
        "id": "yq5AhcxEx3TC",
        "colab": {
          "base_uri": "https://localhost:8080/",
          "height": 279
        },
        "outputId": "43d88926-3658-4065-a406-c890ba957d0a"
      },
      "source": [
        "INPUT_FEATURE = \"horsepower\"\n",
        "LABEL = \"price\"\n",
        "\n",
        "plt.ylabel(LABEL)\n",
        "plt.xlabel(INPUT_FEATURE)\n",
        "plt.scatter(car_data[INPUT_FEATURE], car_data[LABEL], c='black')\n",
        "plt.show()"
      ],
      "execution_count": 9,
      "outputs": [
        {
          "output_type": "display_data",
          "data": {
            "image/png": "[encoded data removed]",
            "text/plain": [
              "<Figure size 432x288 with 1 Axes>"
            ]
          },
          "metadata": {
            "tags": [],
            "needs_background": "light"
          }
        }
      ]
    },
    {
      "cell_type": "markdown",
      "metadata": {
        "id": "LgjPhuWBKC2z"
      },
      "source": [
        "###Using numpy polyfit to find the line that minimizes RMSE\n",
        "For the task of finding a line that minimizes the squared error with respect to a set of points, using SGD is not the most efficient method but it will be useful in that it can be applied to much more complex problems.  As a tool to help see what the optimal solution looks like we wil use `polyfit` to compute the optimal solution and then add that to our plot."
      ]
    },
    {
      "cell_type": "code",
      "metadata": {
        "colab": {
          "base_uri": "https://localhost:8080/"
        },
        "id": "GqGOYfA2L6LX",
        "outputId": "7b7d9b98-d887-4ab9-f21f-6d2bca3c44ff"
      },
      "source": [
        "x = car_data[INPUT_FEATURE]\n",
        "y = car_data[LABEL]\n",
        "opt = np.polyfit(x, y, 1)\n",
        "y_pred = opt[0] * x + opt[1]\n",
        "opt_rmse = math.sqrt(metrics.mean_squared_error(y_pred, y))\n",
        "slope = opt[0]\n",
        "bias = opt[1]\n",
        "print(\"Optimal RMSE =\", opt_rmse, \"for solution\", opt)"
      ],
      "execution_count": 10,
      "outputs": [
        {
          "output_type": "stream",
          "text": [
            "Optimal RMSE = 5823.494869419034 for solution [  136.77704681 -1171.29960347]\n"
          ],
          "name": "stdout"
        }
      ]
    },
    {
      "cell_type": "markdown",
      "metadata": {
        "id": "U7qT33YbG3Jf"
      },
      "source": [
        "### Showing A Linear Regression Model in a Scatter Plot\n",
        "To help provide intuition to what is being learned by a linear regression model and as a way to visualzize the quality, we provide a method to create the scatter plot of a single input feature with respect to the label feature.  In addition, a set of lines (from different linear regression models) as provided as a list of slopes, biases and model_names for the legend can be provided."
      ]
    },
    {
      "cell_type": "code",
      "metadata": {
        "id": "uTzgIq_hZL0m"
      },
      "source": [
        "def make_scatter_plot(dataframe, input_feature, target,\n",
        "                      slopes=[], biases=[], model_names=[]):\n",
        "  \"\"\" Creates a scatter plot of input_feature vs target along with the models.\n",
        "  \n",
        "  Args:\n",
        "    dataframe: the dataframe to visualize\n",
        "    input_feature: the input feature to be used for the x-axis\n",
        "    target: the target to be used for the y-axis\n",
        "    slopes: list of model weight (slope) \n",
        "    bias: list of model bias (same size as slopes)\n",
        "    model_names: list of model_names to use for legend (same size as slopes)\n",
        "  \"\"\"      \n",
        "  # Define some colors to use that go from blue towards red\n",
        "  colors = [cm.coolwarm(x) for x in np.linspace(0, 1, len(slopes))]\n",
        "  \n",
        "  # Generate the Scatter plot\n",
        "  x = dataframe[input_feature]\n",
        "  y = dataframe[target]\n",
        "  plt.ylabel(target)\n",
        "  plt.xlabel(input_feature)\n",
        "  plt.scatter(x, y, color='black', label=\"\")\n",
        "\n",
        "  # Add the lines corresponding to the provided models\n",
        "  for i in range (0, len(slopes)):\n",
        "    y_0 = slopes[i] * x.min() + biases[i]\n",
        "    y_1 = slopes[i] * x.max() + biases[i]\n",
        "    plt.plot([x.min(), x.max()], [y_0, y_1],\n",
        "             label=model_names[i], color=colors[i])\n",
        "  if (len(model_names) > 0):\n",
        "    plt.legend(bbox_to_anchor=(1.05, 1), loc=2, borderaxespad=0.)"
      ],
      "execution_count": 11,
      "outputs": []
    },
    {
      "cell_type": "code",
      "metadata": {
        "id": "aVlGG6cRINfP",
        "colab": {
          "base_uri": "https://localhost:8080/",
          "height": 279
        },
        "outputId": "5c0a3848-42d8-4788-8ea8-ab58f2157bef"
      },
      "source": [
        "make_scatter_plot(car_data,INPUT_FEATURE, LABEL,\n",
        "                  [slope], [bias], [\"initial model\"])\n"
      ],
      "execution_count": 12,
      "outputs": [
        {
          "output_type": "display_data",
          "data": {
            "image/png": "[encoded data removed]",
            "text/plain": [
              "<Figure size 432x288 with 1 Axes>"
            ]
          },
          "metadata": {
            "tags": [],
            "needs_background": "light"
          }
        }
      ]
    },
    {
      "cell_type": "markdown",
      "metadata": {
        "id": "XPBoFxzRSHol"
      },
      "source": [
        "## Task 1: Create a scatter plot for new features (1 Point)\n",
        "\n",
        "Create a scatter plot with price as the input feature and losses as the label where the line optimizing the squared loss is shown.  We've gotten you started.  You just need to copy the appropriate lines from above.  **Save the slope and bias from this line to be used in a later task.**"
      ]
    },
    {
      "cell_type": "code",
      "metadata": {
        "id": "P64o23hPSZ5N",
        "colab": {
          "base_uri": "https://localhost:8080/",
          "height": 279
        },
        "outputId": "8ac7ac82-e5f5-4198-d7ba-ef59a20d8562"
      },
      "source": [
        "INPUT_FEATURE = \"price\"\n",
        "LABEL = \"losses\"\n",
        "\n",
        "# Fill in the rest of this block.\n",
        "plt.ylabel(LABEL)\n",
        "plt.xlabel(INPUT_FEATURE)\n",
        "plt.scatter(car_data[INPUT_FEATURE], car_data[LABEL], c='blue')\n",
        "plt.show()"
      ],
      "execution_count": 13,
      "outputs": [
        {
          "output_type": "display_data",
          "data": {
            "image/png": "[encoded data removed]",
            "text/plain": [
              "<Figure size 432x288 with 1 Axes>"
            ]
          },
          "metadata": {
            "tags": [],
            "needs_background": "light"
          }
        }
      ]
    },
    {
      "cell_type": "markdown",
      "metadata": {
        "id": "hYamoYZmLENA"
      },
      "source": [
        "## Task 2: Explain what you see (1 point)\n",
        "\n",
        "Explain why we are seeing so many points along the line `y=0`.\n",
        "\n",
        "----------------------------\n",
        "\n",
        "**PUT YOUR ANSWER HERE**"
      ]
    },
    {
      "cell_type": "markdown",
      "metadata": {
        "id": "QZLePi8V8za1"
      },
      "source": [
        "##Task 3: Options to handle missing data (3 Points)\n",
        "\n",
        "In this task you will explore alternate ways to handle missing data. When training a linear model using features that are numerical, we **cannot have `NaN` (doing so would cause overflow when training)**. One option is to just discard any rows with any missing entries but often this would not leave enough data.  Here we explore ways to handle the missing data without just discarding it.\n",
        "\n",
        "Note that when you get a column of a dataframe (e.g. car_data[\"price']), you get a `Series`.  Read [http://pandas.pydata.org/pandas-docs/version/0.18.1/api.html#computations-descriptive-stats](http://pandas.pydata.org/pandas-docs/version/0.18.1/api.html#computations-descriptive-stats) and think about if you see any statistics for a column that might make a better choice than 0 for filling in the missing entries.What do you think would work best?\n",
        "\n",
        "Modify the code to use the function you selected to replace missings instead of just using 0 and both look at the scatter plot and the line minimizing RMSE both with the missings replaced by 0 and the missing entries replaced by the option you pick.  Feel free to show multiple options as a tool to help you explain your choice of which you think is best..  What option do you think is best and why?\n"
      ]
    },
    {
      "cell_type": "code",
      "metadata": {
        "id": "83z_EMLGVoUp"
      },
      "source": [
        "# Load in the data from a CSV file that is comma seperated.\n",
        "car_data_v2 = pd.read_csv('https://storage.googleapis.com/ml_universities/cars_dataset/cars_data.csv',\n",
        "                           sep=',', names=cols, header=None, encoding='latin-1')\n",
        "car_data_v2['price'] = pd.to_numeric(car_data_v2['price'], errors='coerce')\n",
        "car_data_v2['losses'] = pd.to_numeric(car_data_v2['losses'], errors='coerce')"
      ],
      "execution_count": 14,
      "outputs": []
    },
    {
      "cell_type": "code",
      "metadata": {
        "id": "fQzTdE24VbB5"
      },
      "source": [
        "# Fill in what you want to do with the nan here"
      ],
      "execution_count": 15,
      "outputs": []
    },
    {
      "cell_type": "code",
      "metadata": {
        "id": "ExbogDLANDQr"
      },
      "source": [
        "# Create a scatter plot with the model from above (when NA replaced by 0) and at least one other option."
      ],
      "execution_count": 16,
      "outputs": []
    },
    {
      "cell_type": "markdown",
      "metadata": {
        "id": "vEXKjXMZRv-q"
      },
      "source": [
        "-----------------\n",
        "\n",
        "**Put your answer here to what option you think is best and why here**"
      ]
    }
  ]
}